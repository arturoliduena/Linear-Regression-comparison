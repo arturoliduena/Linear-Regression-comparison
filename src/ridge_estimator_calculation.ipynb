{
 "cells": [
  {
   "cell_type": "code",
   "execution_count": 1,
   "metadata": {},
   "outputs": [],
   "source": [
    "from sklearn.datasets import fetch_california_housing\n",
    "from sklearn.preprocessing import StandardScaler\n",
    "from scipy.linalg import eig, inv\n",
    "import statsmodels.api as sm\n",
    "import pandas as pd\n",
    "import numpy as np\n"
   ]
  },
  {
   "cell_type": "code",
   "execution_count": 2,
   "metadata": {},
   "outputs": [],
   "source": [
    "pd.set_option('display.max_columns', None)\n",
    "pd.set_option('display.max_rows', None)\n",
    "pd.set_option('display.precision', 3)"
   ]
  },
  {
   "cell_type": "code",
   "execution_count": 3,
   "metadata": {},
   "outputs": [
    {
     "name": "stdout",
     "output_type": "stream",
     "text": [
      "Index(['MedInc', 'HouseAge', 'AveRooms', 'AveBedrms', 'Population', 'AveOccup',\n",
      "       'Latitude', 'Longitude', 'MedHouseVal'],\n",
      "      dtype='object')\n",
      "(41836.236095122265+0j)\n"
     ]
    }
   ],
   "source": [
    "df = fetch_california_housing(as_frame=True).frame\n",
    "data_columns = list(df.columns)[:-1]\n",
    "print(df.columns)\n",
    "df_standarized = df.copy()\n",
    "df_standarized[list(df.columns)] = StandardScaler().fit_transform(df[list(df.columns)])\n",
    "X = np.asmatrix(df_standarized[data_columns].values)\n",
    "A = X.T * X\n",
    "lambdas, T = eig(A)\n",
    "T = T.T\n",
    "# np.asmatrix(v).T * X * np.asmatrix(v) # == lambdas (look at the diagonal: they are the same)\n",
    "lambda_max = max(lambdas)\n",
    "print(lambda_max)"
   ]
  },
  {
   "cell_type": "code",
   "execution_count": 4,
   "metadata": {},
   "outputs": [
    {
     "data": {
      "text/plain": [
       "(matrix([[4.526],\n",
       "         [3.585],\n",
       "         [3.521],\n",
       "         ...,\n",
       "         [0.923],\n",
       "         [0.847],\n",
       "         [0.894]]),\n",
       " (20640, 1))"
      ]
     },
     "execution_count": 4,
     "metadata": {},
     "output_type": "execute_result"
    }
   ],
   "source": [
    "Z = X * T\n",
    "Y = np.asmatrix(df.MedHouseVal.values).T\n",
    "Y, Y.shape\n",
    "# alpha_OLS = inv(Z.T * Z)*Z.T * Y.T\n",
    "# alpha_OLS"
   ]
  },
  {
   "cell_type": "code",
   "execution_count": 5,
   "metadata": {},
   "outputs": [
    {
     "data": {
      "text/plain": [
       "(matrix([[ 0.71895227],\n",
       "         [ 0.10291078],\n",
       "         [-0.23010693],\n",
       "         [ 0.26491789],\n",
       "         [-0.00390232],\n",
       "         [-0.03408034],\n",
       "         [-0.77984545],\n",
       "         [-0.75441522]]),\n",
       " (8, 1))"
      ]
     },
     "execution_count": 5,
     "metadata": {},
     "output_type": "execute_result"
    }
   ],
   "source": [
    "# df_standarized[\"constant\"] = sm.add_constant(np.ones(df.MedHouseVal.shape))\n",
    "model = sm.OLS(df_standarized.MedHouseVal,df_standarized[data_columns])\n",
    "results = model.fit()\n",
    "beta_OLS = np.asmatrix(results.params).T\n",
    "# Y_prime = X * beta_OLS.T\n",
    "# print(Y_prime)\n",
    "beta_OLS, beta_OLS.shape"
   ]
  },
  {
   "cell_type": "code",
   "execution_count": 6,
   "metadata": {},
   "outputs": [
    {
     "data": {
      "text/plain": [
       "(matrix([[-0.73823032],\n",
       "         [-0.29371963],\n",
       "         [-0.35062293],\n",
       "         [ 0.04963813],\n",
       "         [ 0.31767058],\n",
       "         [-0.72227761],\n",
       "         [-0.63012187],\n",
       "         [ 0.22974528]]),\n",
       " matrix([[4.91307654]]))"
      ]
     },
     "execution_count": 6,
     "metadata": {},
     "output_type": "execute_result"
    }
   ],
   "source": [
    "alpha_OLS = (inv(T) * beta_OLS)\n",
    "n, p = df.shape[0], len(data_columns)\n",
    "std_err = (Y.T*Y - (alpha_OLS.T * Z.T) * Y)/(n-p-1)\n",
    "alpha_OLS, std_err"
   ]
  },
  {
   "cell_type": "markdown",
   "metadata": {},
   "source": [
    "$k_1$"
   ]
  },
  {
   "cell_type": "code",
   "execution_count": 7,
   "metadata": {},
   "outputs": [
    {
     "name": "stdout",
     "output_type": "stream",
     "text": [
      "[[39.30461228]]\n"
     ]
    },
    {
     "data": {
      "text/plain": [
       "matrix([[21.48859661]])"
      ]
     },
     "execution_count": 7,
     "metadata": {},
     "output_type": "execute_result"
    }
   ],
   "source": [
    "print(p*std_err)\n",
    "k_1=p*std_err/(alpha_OLS.T*alpha_OLS)\n",
    "k_1"
   ]
  },
  {
   "cell_type": "markdown",
   "metadata": {},
   "source": [
    "$k_i(AD)$"
   ]
  },
  {
   "cell_type": "code",
   "execution_count": 8,
   "metadata": {},
   "outputs": [
    {
     "data": {
      "text/plain": [
       "matrix([[0.00043097, 0.00272248, 0.00191051, 0.09532354, 0.00232743,\n",
       "         0.00045022, 0.00059154, 0.00444977]])"
      ]
     },
     "execution_count": 8,
     "metadata": {},
     "output_type": "execute_result"
    }
   ],
   "source": [
    "k_iAD = 2*std_err/(lambda_max*alpha_OLS.A1**2)\n",
    "np.real(k_iAD)"
   ]
  },
  {
   "cell_type": "markdown",
   "metadata": {},
   "source": [
    "$k_1(AD)$"
   ]
  },
  {
   "cell_type": "code",
   "execution_count": 9,
   "metadata": {},
   "outputs": [
    {
     "data": {
      "text/plain": [
       "0.013525807768928226"
      ]
     },
     "execution_count": 9,
     "metadata": {},
     "output_type": "execute_result"
    }
   ],
   "source": [
    "k_1AD = 2/(8*lambda_max) * np.sum(std_err/alpha_OLS.A1**2 )\n",
    "np.real(k_1AD)"
   ]
  },
  {
   "cell_type": "markdown",
   "metadata": {},
   "source": [
    "$k_2(AD)$"
   ]
  },
  {
   "cell_type": "code",
   "execution_count": 10,
   "metadata": {},
   "outputs": [
    {
     "data": {
      "text/plain": [
       "0.0021189729385916543"
      ]
     },
     "execution_count": 10,
     "metadata": {},
     "output_type": "execute_result"
    }
   ],
   "source": [
    "k_2AD = np.median([2*std_err/(lambda_max*alpha_OLS.A1**2)])\n",
    "np.real(k_2AD)"
   ]
  },
  {
   "cell_type": "markdown",
   "metadata": {},
   "source": [
    "$k_3(AD)$"
   ]
  },
  {
   "cell_type": "code",
   "execution_count": 17,
   "metadata": {},
   "outputs": [
    {
     "data": {
      "text/plain": [
       "0.002219717496192362"
      ]
     },
     "execution_count": 17,
     "metadata": {},
     "output_type": "execute_result"
    }
   ],
   "source": [
    "k_3AD = 2*std_err/(lambda_max*np.prod([x**2 for x in alpha_OLS])**(1/p))\n",
    "np.real(k_3AD.A1[0])"
   ]
  },
  {
   "cell_type": "markdown",
   "metadata": {},
   "source": [
    "$k_4(AD)$"
   ]
  },
  {
   "cell_type": "code",
   "execution_count": 12,
   "metadata": {},
   "outputs": [
    {
     "data": {
      "text/plain": [
       "0.8656516972114062"
      ]
     },
     "execution_count": 12,
     "metadata": {},
     "output_type": "execute_result"
    }
   ],
   "source": [
    "k_4AD = (2*p/lambda_max) * sum([std_err/x**2 for x in alpha_OLS])\n",
    "np.real(k_4AD).A1[0] "
   ]
  },
  {
   "cell_type": "markdown",
   "metadata": {},
   "source": [
    "# Sources\n",
    "- New ridge parameters for ridge regression"
   ]
  }
 ],
 "metadata": {
  "kernelspec": {
   "display_name": "Python 3",
   "language": "python",
   "name": "python3"
  },
  "language_info": {
   "codemirror_mode": {
    "name": "ipython",
    "version": 3
   },
   "file_extension": ".py",
   "mimetype": "text/x-python",
   "name": "python",
   "nbconvert_exporter": "python",
   "pygments_lexer": "ipython3",
   "version": "3.11.9"
  }
 },
 "nbformat": 4,
 "nbformat_minor": 2
}
